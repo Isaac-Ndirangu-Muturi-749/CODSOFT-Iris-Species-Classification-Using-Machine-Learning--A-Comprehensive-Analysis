{
 "cells": [
  {
   "cell_type": "code",
   "execution_count": 20,
   "metadata": {},
   "outputs": [
    {
     "data": {
      "text/html": [
       "<div>\n",
       "<style scoped>\n",
       "    .dataframe tbody tr th:only-of-type {\n",
       "        vertical-align: middle;\n",
       "    }\n",
       "\n",
       "    .dataframe tbody tr th {\n",
       "        vertical-align: top;\n",
       "    }\n",
       "\n",
       "    .dataframe thead th {\n",
       "        text-align: right;\n",
       "    }\n",
       "</style>\n",
       "<table border=\"1\" class=\"dataframe\">\n",
       "  <thead>\n",
       "    <tr style=\"text-align: right;\">\n",
       "      <th></th>\n",
       "      <th>sepal_length</th>\n",
       "      <th>sepal_width</th>\n",
       "      <th>petal_length</th>\n",
       "      <th>petal_width</th>\n",
       "      <th>species</th>\n",
       "    </tr>\n",
       "  </thead>\n",
       "  <tbody>\n",
       "    <tr>\n",
       "      <th>0</th>\n",
       "      <td>5.1</td>\n",
       "      <td>3.5</td>\n",
       "      <td>1.4</td>\n",
       "      <td>0.2</td>\n",
       "      <td>Iris-setosa</td>\n",
       "    </tr>\n",
       "    <tr>\n",
       "      <th>1</th>\n",
       "      <td>4.9</td>\n",
       "      <td>3.0</td>\n",
       "      <td>1.4</td>\n",
       "      <td>0.2</td>\n",
       "      <td>Iris-setosa</td>\n",
       "    </tr>\n",
       "    <tr>\n",
       "      <th>2</th>\n",
       "      <td>4.7</td>\n",
       "      <td>3.2</td>\n",
       "      <td>1.3</td>\n",
       "      <td>0.2</td>\n",
       "      <td>Iris-setosa</td>\n",
       "    </tr>\n",
       "    <tr>\n",
       "      <th>3</th>\n",
       "      <td>4.6</td>\n",
       "      <td>3.1</td>\n",
       "      <td>1.5</td>\n",
       "      <td>0.2</td>\n",
       "      <td>Iris-setosa</td>\n",
       "    </tr>\n",
       "    <tr>\n",
       "      <th>4</th>\n",
       "      <td>5.0</td>\n",
       "      <td>3.6</td>\n",
       "      <td>1.4</td>\n",
       "      <td>0.2</td>\n",
       "      <td>Iris-setosa</td>\n",
       "    </tr>\n",
       "    <tr>\n",
       "      <th>...</th>\n",
       "      <td>...</td>\n",
       "      <td>...</td>\n",
       "      <td>...</td>\n",
       "      <td>...</td>\n",
       "      <td>...</td>\n",
       "    </tr>\n",
       "    <tr>\n",
       "      <th>145</th>\n",
       "      <td>6.7</td>\n",
       "      <td>3.0</td>\n",
       "      <td>5.2</td>\n",
       "      <td>2.3</td>\n",
       "      <td>Iris-virginica</td>\n",
       "    </tr>\n",
       "    <tr>\n",
       "      <th>146</th>\n",
       "      <td>6.3</td>\n",
       "      <td>2.5</td>\n",
       "      <td>5.0</td>\n",
       "      <td>1.9</td>\n",
       "      <td>Iris-virginica</td>\n",
       "    </tr>\n",
       "    <tr>\n",
       "      <th>147</th>\n",
       "      <td>6.5</td>\n",
       "      <td>3.0</td>\n",
       "      <td>5.2</td>\n",
       "      <td>2.0</td>\n",
       "      <td>Iris-virginica</td>\n",
       "    </tr>\n",
       "    <tr>\n",
       "      <th>148</th>\n",
       "      <td>6.2</td>\n",
       "      <td>3.4</td>\n",
       "      <td>5.4</td>\n",
       "      <td>2.3</td>\n",
       "      <td>Iris-virginica</td>\n",
       "    </tr>\n",
       "    <tr>\n",
       "      <th>149</th>\n",
       "      <td>5.9</td>\n",
       "      <td>3.0</td>\n",
       "      <td>5.1</td>\n",
       "      <td>1.8</td>\n",
       "      <td>Iris-virginica</td>\n",
       "    </tr>\n",
       "  </tbody>\n",
       "</table>\n",
       "<p>150 rows × 5 columns</p>\n",
       "</div>"
      ],
      "text/plain": [
       "     sepal_length  sepal_width  petal_length  petal_width         species\n",
       "0             5.1          3.5           1.4          0.2     Iris-setosa\n",
       "1             4.9          3.0           1.4          0.2     Iris-setosa\n",
       "2             4.7          3.2           1.3          0.2     Iris-setosa\n",
       "3             4.6          3.1           1.5          0.2     Iris-setosa\n",
       "4             5.0          3.6           1.4          0.2     Iris-setosa\n",
       "..            ...          ...           ...          ...             ...\n",
       "145           6.7          3.0           5.2          2.3  Iris-virginica\n",
       "146           6.3          2.5           5.0          1.9  Iris-virginica\n",
       "147           6.5          3.0           5.2          2.0  Iris-virginica\n",
       "148           6.2          3.4           5.4          2.3  Iris-virginica\n",
       "149           5.9          3.0           5.1          1.8  Iris-virginica\n",
       "\n",
       "[150 rows x 5 columns]"
      ]
     },
     "execution_count": 20,
     "metadata": {},
     "output_type": "execute_result"
    }
   ],
   "source": [
    "import pandas as pd\n",
    "\n",
    "def format_bank_dataset(input_path, output_path):\n",
    "    # Read the dataset from the input path (assuming it's in CSV format with a delimiter)\n",
    "    dataset = pd.read_csv(input_path, delimiter=\",\")\n",
    "\n",
    "    # If the dataset already has the correct format, return it as is\n",
    "    if 'species' in dataset.columns:\n",
    "        return dataset\n",
    "\n",
    "    # Split the single column into separate columns using a delimiter (e.g., comma)\n",
    "    dataset = dataset['sepal_length,sepal_width,petal_length,petal_width,species'].str.split(',', expand=True)\n",
    "\n",
    "    # Rename the columns to match the expected column names\n",
    "    dataset.columns = ['sepal_length', 'sepal_width', 'petal_length', 'petal_width', 'species']\n",
    "\n",
    "    # Save the formatted dataset to the output path\n",
    "    dataset.to_csv(output_path, index=False)\n",
    "\n",
    "    return dataset\n",
    "\n",
    "formatted_dataset = format_bank_dataset('data/IRIS.csv', 'data/NEW_IRIS.csv')\n",
    "\n",
    "formatted_dataset"
   ]
  },
  {
   "cell_type": "code",
   "execution_count": 21,
   "metadata": {},
   "outputs": [],
   "source": [
    "formatted_dataset.to_csv('data/NEW_IRIS.csv', index=False)"
   ]
  },
  {
   "cell_type": "markdown",
   "metadata": {},
   "source": [
    "# DATA UNDERSTANDING\n",
    "\n",
    "# Bank Dataset Analyzer\n",
    "\n",
    "This class, `DatasetAnalyzer`, is designed to analyze a dataset related to banking. It provides various methods to gather insights about the dataset, identify patterns, and address data quality issues. This class is part of a broader data analysis and preprocessing process.\n",
    "\n",
    "## How It Works\n",
    "\n",
    "### Initialization\n",
    "\n",
    "1. Import the necessary libraries: `pandas`, `matplotlib.pyplot`, `seaborn`, and `numpy`.\n",
    "\n",
    "2. Define a class named `DatasetAnalyzer` that takes the path to the dataset as a parameter during initialization (`dataset_path`).\n",
    "\n",
    "3. Inside the `__init__` method, the dataset is loaded using `pd.read_csv()` and stored as an attribute (`self.dataset`).\n",
    "\n",
    "### Data Exploration and Analysis Methods\n",
    "\n",
    "The class provides several methods to explore and analyze the dataset:\n",
    "\n",
    "- `preview_dataset(num_rows)`: Displays the first and last few rows of the dataset.\n",
    "\n",
    "- `check_columns_list()`: Returns a list of columns in the dataset.\n",
    "\n",
    "- `explore_column_value_counts()`: Prints the value counts for each column in the dataset.\n",
    "\n",
    "- `get_dataset_shape()`: Returns the number of rows and columns in the dataset.\n",
    "\n",
    "- `get_dataset_info()`: Displays information about the dataset, including data types and memory usage.\n",
    "\n",
    "- `get_dataset_description()`: Provides a statistical description of the dataset, including measures like mean, min, max, and quartiles.\n",
    "\n",
    "- `analyze_duplicated_rows()`: Counts and visualizes the percentage of duplicated rows in the dataset.\n",
    "\n",
    "- `analyze_missing_values()`: Counts and visualizes the percentage of missing values for each column in the dataset.\n",
    "\n",
    "- `count_data_types()`: Returns the count of data types present in the dataset.\n",
    "\n",
    "- `count_unique_values_by_dtype()`: Counts and prints the number of unique values for integer, float, and object columns.\n",
    "\n",
    "Each method is designed to provide insights into different aspects of the dataset, helping to identify data quality issues, patterns, and trends."
   ]
  },
  {
   "cell_type": "code",
   "execution_count": 22,
   "metadata": {},
   "outputs": [],
   "source": [
    "import pandas as pd\n",
    "import matplotlib.pyplot as plt\n",
    "import seaborn as sns\n",
    "import numpy as np\n",
    "\n",
    "class DatasetAnalyzer:\n",
    "    def __init__(self, dataset_path):\n",
    "        # Initialize the DatasetAnalyzer with the dataset path\n",
    "        self.dataset_path = dataset_path\n",
    "        self.dataset = pd.read_csv(dataset_path, delimiter=\";\")\n",
    "        \n",
    "    def preview_dataset(self, num_rows=5):\n",
    "        # Display the first few and last few rows of the dataset\n",
    "        print(f\"Preview of the dataset (first {num_rows} rows):\")\n",
    "        print(self.dataset.head(num_rows))\n",
    "        print(f\"Preview of the dataset (last {num_rows} rows):\")\n",
    "        print(self.dataset.tail(num_rows))\n",
    "\n",
    "    def check_columns_list(self):\n",
    "        # Get the list of columns in the dataset\n",
    "        return self.dataset.columns.tolist()\n",
    "\n",
    "    def explore_column_value_counts(self):\n",
    "        # Explore the value counts for each column\n",
    "        column_value_counts = {}\n",
    "\n",
    "        for column in self.dataset.columns:\n",
    "            column_value_counts[column] = self.dataset[column].value_counts()\n",
    "\n",
    "        for column, values in column_value_counts.items():\n",
    "            print(f\"Value Counts for Column '{column}':\\n{values}\\n\")\n",
    "\n",
    "    def get_dataset_shape(self):\n",
    "        # Get the shape of the dataset\n",
    "        return self.dataset.shape\n",
    "\n",
    "    def get_dataset_info(self):\n",
    "        # Get information about the dataset\n",
    "        return self.dataset.info()\n",
    "\n",
    "    def get_dataset_description(self):\n",
    "        # Get a statistical description of the dataset\n",
    "        return self.dataset.describe()\n",
    "\n",
    "    def analyze_duplicated_rows(self):\n",
    "        # Analyze duplicate rows\n",
    "        duplicate_count = self.dataset.duplicated().sum()\n",
    "\n",
    "        # Print duplicate rows count\n",
    "        print(\"Duplicate Rows Count:\", duplicate_count)\n",
    "\n",
    "        # Calculate the percentage of duplicate rows\n",
    "        duplicate_percentage = (duplicate_count / len(self.dataset)) * 100\n",
    "\n",
    "        # Create a bar chart to visualize the percentage of duplicate rows\n",
    "        plt.figure(figsize=(6, 4))\n",
    "        sns.barplot(x=[\"Duplicate Rows\", \"Non-Duplicate Rows\"],\n",
    "                    y=[duplicate_percentage, 100 - duplicate_percentage], color='skyblue', edgecolor='black')\n",
    "        plt.ylabel(\"Percentage (%)\")\n",
    "        plt.title(\"Percentage of Duplicated Rows\")\n",
    "        plt.tight_layout()\n",
    "        plt.show()\n",
    "\n",
    "    def analyze_missing_values(self):\n",
    "        # Analyze missing values\n",
    "        missing_values_count = self.dataset.isnull().sum()\n",
    "\n",
    "        # Print missing values counts\n",
    "        print(\"Missing Values Counts:\")\n",
    "        print(missing_values_count)\n",
    "\n",
    "         # Calculate the percentage of missing values for each column\n",
    "        missing_percentage = (self.dataset.isnull().sum() / len(self.dataset)) * 100\n",
    "\n",
    "        # Create a bar chart to visualize the percentage of missing values\n",
    "        plt.figure(figsize=(10, 6))\n",
    "        sns.barplot(x=missing_percentage.index, y=missing_percentage.values, color='skyblue', edgecolor='black')\n",
    "        plt.xlabel('Columns')\n",
    "        plt.ylabel('Percentage of Missing Values')\n",
    "        plt.title('Percentage of Missing Values in Each Column')\n",
    "        plt.xticks(rotation=45)\n",
    "        plt.tight_layout()\n",
    "        plt.show()\n",
    "\n",
    "    def count_data_types(self):\n",
    "        # Count the data types in the dataset\n",
    "        return self.dataset.dtypes.value_counts()\n",
    "\n",
    "    def count_unique_values_by_dtype(self):\n",
    "         # Group columns by data type\n",
    "        data_types = self.dataset.dtypes\n",
    "\n",
    "        # Separate columns by data type\n",
    "        int_columns = data_types[data_types == 'int64'].index\n",
    "        float_columns = data_types[data_types == 'float64'].index\n",
    "        object_columns = data_types[data_types == 'object'].index\n",
    "        \n",
    "        print(\"Unique Values Counts by Data Type:\")\n",
    "\n",
    "        # Print columns and their counts for each data type\n",
    "        print(\"Integer Columns:\")\n",
    "        print(self.dataset[int_columns].nunique())\n",
    "\n",
    "        print(\"\\nFloat Columns:\")\n",
    "        print(self.dataset[float_columns].nunique())\n",
    "\n",
    "        print(\"\\nObject Columns:\")\n",
    "        print(self.dataset[object_columns].nunique())"
   ]
  },
  {
   "cell_type": "code",
   "execution_count": 23,
   "metadata": {},
   "outputs": [],
   "source": [
    "# Create an instance of DatasetAnalyzer\n",
    "analyzer = DatasetAnalyzer(\"data/NEW_IRIS.csv\")"
   ]
  },
  {
   "cell_type": "code",
   "execution_count": 24,
   "metadata": {},
   "outputs": [
    {
     "name": "stdout",
     "output_type": "stream",
     "text": [
      "Preview of the dataset (first 5 rows):\n",
      "  sepal_length,sepal_width,petal_length,petal_width,species\n",
      "0                        5.1,3.5,1.4,0.2,Iris-setosa       \n",
      "1                        4.9,3.0,1.4,0.2,Iris-setosa       \n",
      "2                        4.7,3.2,1.3,0.2,Iris-setosa       \n",
      "3                        4.6,3.1,1.5,0.2,Iris-setosa       \n",
      "4                        5.0,3.6,1.4,0.2,Iris-setosa       \n",
      "Preview of the dataset (last 5 rows):\n",
      "    sepal_length,sepal_width,petal_length,petal_width,species\n",
      "145                     6.7,3.0,5.2,2.3,Iris-virginica       \n",
      "146                     6.3,2.5,5.0,1.9,Iris-virginica       \n",
      "147                     6.5,3.0,5.2,2.0,Iris-virginica       \n",
      "148                     6.2,3.4,5.4,2.3,Iris-virginica       \n",
      "149                     5.9,3.0,5.1,1.8,Iris-virginica       \n"
     ]
    }
   ],
   "source": [
    "# Preview the dataset\n",
    "analyzer.preview_dataset()"
   ]
  },
  {
   "cell_type": "code",
   "execution_count": 25,
   "metadata": {},
   "outputs": [
    {
     "name": "stdout",
     "output_type": "stream",
     "text": [
      "Columns in the dataset: ['sepal_length,sepal_width,petal_length,petal_width,species']\n"
     ]
    }
   ],
   "source": [
    "# Get the list of columns in the dataset\n",
    "columns_list = analyzer.check_columns_list()\n",
    "print(\"Columns in the dataset:\", columns_list)"
   ]
  },
  {
   "cell_type": "markdown",
   "metadata": {},
   "source": []
  },
  {
   "cell_type": "code",
   "execution_count": 26,
   "metadata": {},
   "outputs": [
    {
     "name": "stdout",
     "output_type": "stream",
     "text": [
      "Value Counts for Column 'sepal_length,sepal_width,petal_length,petal_width,species':\n",
      "4.9,3.1,1.5,0.1,Iris-setosa        3\n",
      "5.8,2.7,5.1,1.9,Iris-virginica     2\n",
      "6.5,3.0,5.8,2.2,Iris-virginica     1\n",
      "5.4,3.9,1.7,0.4,Iris-setosa        1\n",
      "5.7,4.4,1.5,0.4,Iris-setosa        1\n",
      "                                  ..\n",
      "5.6,3.0,4.5,1.5,Iris-versicolor    1\n",
      "6.3,2.9,5.6,1.8,Iris-virginica     1\n",
      "5.0,3.5,1.3,0.3,Iris-setosa        1\n",
      "7.7,2.6,6.9,2.3,Iris-virginica     1\n",
      "5.4,3.7,1.5,0.2,Iris-setosa        1\n",
      "Name: sepal_length,sepal_width,petal_length,petal_width,species, Length: 147, dtype: int64\n",
      "\n"
     ]
    }
   ],
   "source": [
    "# Explore value counts for each column\n",
    "analyzer.explore_column_value_counts()"
   ]
  },
  {
   "cell_type": "code",
   "execution_count": 27,
   "metadata": {},
   "outputs": [
    {
     "name": "stdout",
     "output_type": "stream",
     "text": [
      "Shape of the dataset: (150, 1)\n"
     ]
    }
   ],
   "source": [
    "# Get the shape of the dataset\n",
    "dataset_shape = analyzer.get_dataset_shape()\n",
    "print(\"Shape of the dataset:\", dataset_shape)"
   ]
  },
  {
   "cell_type": "code",
   "execution_count": 28,
   "metadata": {},
   "outputs": [
    {
     "name": "stdout",
     "output_type": "stream",
     "text": [
      "<class 'pandas.core.frame.DataFrame'>\n",
      "RangeIndex: 150 entries, 0 to 149\n",
      "Data columns (total 1 columns):\n",
      " #   Column                                                     Non-Null Count  Dtype \n",
      "---  ------                                                     --------------  ----- \n",
      " 0   sepal_length,sepal_width,petal_length,petal_width,species  150 non-null    object\n",
      "dtypes: object(1)\n",
      "memory usage: 1.3+ KB\n",
      "Information about the dataset:\n",
      "None\n"
     ]
    }
   ],
   "source": [
    "# Get information about the dataset\n",
    "dataset_info = analyzer.get_dataset_info()\n",
    "print(\"Information about the dataset:\")\n",
    "print(dataset_info)"
   ]
  },
  {
   "cell_type": "code",
   "execution_count": 29,
   "metadata": {},
   "outputs": [
    {
     "name": "stdout",
     "output_type": "stream",
     "text": [
      "Statistical description of the dataset:\n",
      "       sepal_length,sepal_width,petal_length,petal_width,species\n",
      "count                                                 150       \n",
      "unique                                                147       \n",
      "top                           4.9,3.1,1.5,0.1,Iris-setosa       \n",
      "freq                                                    3       \n"
     ]
    }
   ],
   "source": [
    "# Get a statistical description of the dataset\n",
    "dataset_description = analyzer.get_dataset_description()\n",
    "print(\"Statistical description of the dataset:\")\n",
    "print(dataset_description)"
   ]
  },
  {
   "cell_type": "code",
   "execution_count": 30,
   "metadata": {},
   "outputs": [
    {
     "name": "stdout",
     "output_type": "stream",
     "text": [
      "Duplicate Rows Count: 3\n"
     ]
    },
    {
     "data": {
      "image/png": "[encoded data removed]",
      "text/plain": [
       "<Figure size 600x400 with 1 Axes>"
      ]
     },
     "metadata": {},
     "output_type": "display_data"
    }
   ],
   "source": [
    "# Analyze duplicate rows and visualize the percentage\n",
    "analyzer.analyze_duplicated_rows()"
   ]
  },
  {
   "cell_type": "code",
   "execution_count": 31,
   "metadata": {},
   "outputs": [
    {
     "name": "stdout",
     "output_type": "stream",
     "text": [
      "Missing Values Counts:\n",
      "sepal_length,sepal_width,petal_length,petal_width,species    0\n",
      "dtype: int64\n"
     ]
    },
    {
     "data": {
      "image/png": "[encoded data removed]",
      "text/plain": [
       "<Figure size 1000x600 with 1 Axes>"
      ]
     },
     "metadata": {},
     "output_type": "display_data"
    }
   ],
   "source": [
    "# Analyze missing values and visualize the percentage\n",
    "analyzer.analyze_missing_values()"
   ]
  },
  {
   "cell_type": "code",
   "execution_count": 32,
   "metadata": {},
   "outputs": [
    {
     "name": "stdout",
     "output_type": "stream",
     "text": [
      "Data types counts:\n",
      "object    1\n",
      "dtype: int64\n"
     ]
    }
   ],
   "source": [
    "# Count data types in the dataset\n",
    "data_type_counts = analyzer.count_data_types()\n",
    "print(\"Data types counts:\")\n",
    "print(data_type_counts)"
   ]
  },
  {
   "cell_type": "code",
   "execution_count": 33,
   "metadata": {},
   "outputs": [
    {
     "name": "stdout",
     "output_type": "stream",
     "text": [
      "Unique Values Counts by Data Type:\n",
      "Integer Columns:\n",
      "Series([], dtype: float64)\n",
      "\n",
      "Float Columns:\n",
      "Series([], dtype: float64)\n",
      "\n",
      "Object Columns:\n",
      "sepal_length,sepal_width,petal_length,petal_width,species    147\n",
      "dtype: int64\n"
     ]
    }
   ],
   "source": [
    "# Count unique values by data type\n",
    "analyzer.count_unique_values_by_dtype()"
   ]
  },
  {
   "cell_type": "markdown",
   "metadata": {},
   "source": [
    "EDA"
   ]
  },
  {
   "cell_type": "code",
   "execution_count": 35,
   "metadata": {},
   "outputs": [],
   "source": [
    "# DATA CLEANING"
   ]
  },
  {
   "cell_type": "code",
   "execution_count": null,
   "metadata": {},
   "outputs": [],
   "source": []
  }
 ],
 "metadata": {
  "kernelspec": {
   "display_name": "learn-env",
   "language": "python",
   "name": "python3"
  },
  "language_info": {
   "codemirror_mode": {
    "name": "ipython",
    "version": 3
   },
   "file_extension": ".py",
   "mimetype": "text/x-python",
   "name": "python",
   "nbconvert_exporter": "python",
   "pygments_lexer": "ipython3",
   "version": "3.8.5"
  },
  "orig_nbformat": 4
 },
 "nbformat": 4,
 "nbformat_minor": 2
}
